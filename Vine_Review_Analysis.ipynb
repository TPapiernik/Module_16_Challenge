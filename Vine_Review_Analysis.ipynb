{
 "cells": [
  {
   "cell_type": "markdown",
   "id": "21c1c27d",
   "metadata": {},
   "source": [
    "# Amazon Vine Review Analysis"
   ]
  },
  {
   "cell_type": "code",
   "execution_count": 3,
   "id": "5e66cabe",
   "metadata": {},
   "outputs": [],
   "source": [
    "# Import Dependencies\n",
    "import os\n",
    "import pandas as pd"
   ]
  },
  {
   "cell_type": "code",
   "execution_count": 5,
   "id": "3f05c1f6",
   "metadata": {},
   "outputs": [],
   "source": [
    "# Import vine_table.csv as DataFrame\n",
    "# (Exported from pgAdmin PostgreSQL amazon_tools_reviews Database vine_table Table)\n",
    "\n",
    "import_directory = \"data\"\n",
    "import_file = \"vine_table.csv\"\n",
    "\n",
    "file_to_load = os.path.join(import_directory, import_file)\n",
    "\n",
    "vine_table_df = pd.read_csv(file_to_load)"
   ]
  },
  {
   "cell_type": "code",
   "execution_count": 6,
   "id": "73c5c9b4",
   "metadata": {},
   "outputs": [
    {
     "data": {
      "text/html": [
       "<div>\n",
       "<style scoped>\n",
       "    .dataframe tbody tr th:only-of-type {\n",
       "        vertical-align: middle;\n",
       "    }\n",
       "\n",
       "    .dataframe tbody tr th {\n",
       "        vertical-align: top;\n",
       "    }\n",
       "\n",
       "    .dataframe thead th {\n",
       "        text-align: right;\n",
       "    }\n",
       "</style>\n",
       "<table border=\"1\" class=\"dataframe\">\n",
       "  <thead>\n",
       "    <tr style=\"text-align: right;\">\n",
       "      <th></th>\n",
       "      <th>review_id</th>\n",
       "      <th>star_rating</th>\n",
       "      <th>helpful_votes</th>\n",
       "      <th>total_votes</th>\n",
       "      <th>vine</th>\n",
       "      <th>verified_purchase</th>\n",
       "    </tr>\n",
       "  </thead>\n",
       "  <tbody>\n",
       "    <tr>\n",
       "      <th>0</th>\n",
       "      <td>R2UM5QMHBHC90Q</td>\n",
       "      <td>5.0</td>\n",
       "      <td>0.0</td>\n",
       "      <td>0.0</td>\n",
       "      <td>N</td>\n",
       "      <td>Y</td>\n",
       "    </tr>\n",
       "    <tr>\n",
       "      <th>1</th>\n",
       "      <td>RF0D1LEIF6L7</td>\n",
       "      <td>4.0</td>\n",
       "      <td>0.0</td>\n",
       "      <td>0.0</td>\n",
       "      <td>N</td>\n",
       "      <td>Y</td>\n",
       "    </tr>\n",
       "    <tr>\n",
       "      <th>2</th>\n",
       "      <td>RM6YKIWQVNSY</td>\n",
       "      <td>1.0</td>\n",
       "      <td>6.0</td>\n",
       "      <td>6.0</td>\n",
       "      <td>N</td>\n",
       "      <td>Y</td>\n",
       "    </tr>\n",
       "    <tr>\n",
       "      <th>3</th>\n",
       "      <td>R1RL3L68ASPS36</td>\n",
       "      <td>4.0</td>\n",
       "      <td>0.0</td>\n",
       "      <td>0.0</td>\n",
       "      <td>N</td>\n",
       "      <td>Y</td>\n",
       "    </tr>\n",
       "    <tr>\n",
       "      <th>4</th>\n",
       "      <td>R1U4XFBFAG34CY</td>\n",
       "      <td>5.0</td>\n",
       "      <td>0.0</td>\n",
       "      <td>0.0</td>\n",
       "      <td>N</td>\n",
       "      <td>Y</td>\n",
       "    </tr>\n",
       "  </tbody>\n",
       "</table>\n",
       "</div>"
      ],
      "text/plain": [
       "        review_id  star_rating  helpful_votes  total_votes vine  \\\n",
       "0  R2UM5QMHBHC90Q          5.0            0.0          0.0    N   \n",
       "1    RF0D1LEIF6L7          4.0            0.0          0.0    N   \n",
       "2    RM6YKIWQVNSY          1.0            6.0          6.0    N   \n",
       "3  R1RL3L68ASPS36          4.0            0.0          0.0    N   \n",
       "4  R1U4XFBFAG34CY          5.0            0.0          0.0    N   \n",
       "\n",
       "  verified_purchase  \n",
       "0                 Y  \n",
       "1                 Y  \n",
       "2                 Y  \n",
       "3                 Y  \n",
       "4                 Y  "
      ]
     },
     "execution_count": 6,
     "metadata": {},
     "output_type": "execute_result"
    }
   ],
   "source": [
    "# Check DataFrame\n",
    "vine_table_df.head()"
   ]
  },
  {
   "cell_type": "code",
   "execution_count": 7,
   "id": "7f57b2f5",
   "metadata": {},
   "outputs": [
    {
     "data": {
      "text/plain": [
       "review_id            1741100\n",
       "star_rating          1741095\n",
       "helpful_votes        1741095\n",
       "total_votes          1741095\n",
       "vine                 1741095\n",
       "verified_purchase    1741095\n",
       "dtype: int64"
      ]
     },
     "execution_count": 7,
     "metadata": {},
     "output_type": "execute_result"
    }
   ],
   "source": [
    "# Check DataFrame\n",
    "vine_table_df.count()"
   ]
  },
  {
   "cell_type": "code",
   "execution_count": 8,
   "id": "7ff5e895",
   "metadata": {},
   "outputs": [
    {
     "data": {
      "text/plain": [
       "review_id             object\n",
       "star_rating          float64\n",
       "helpful_votes        float64\n",
       "total_votes          float64\n",
       "vine                  object\n",
       "verified_purchase     object\n",
       "dtype: object"
      ]
     },
     "execution_count": 8,
     "metadata": {},
     "output_type": "execute_result"
    }
   ],
   "source": [
    "# Check DataFrame\n",
    "vine_table_df.dtypes"
   ]
  },
  {
   "cell_type": "code",
   "execution_count": 15,
   "id": "2be5989f",
   "metadata": {},
   "outputs": [
    {
     "data": {
      "text/plain": [
       "review_id            0\n",
       "star_rating          5\n",
       "helpful_votes        5\n",
       "total_votes          5\n",
       "vine                 5\n",
       "verified_purchase    5\n",
       "dtype: int64"
      ]
     },
     "execution_count": 15,
     "metadata": {},
     "output_type": "execute_result"
    }
   ],
   "source": [
    "# Count NULLs\n",
    "vine_table_df.isnull().sum()"
   ]
  },
  {
   "cell_type": "code",
   "execution_count": 24,
   "id": "19319a49",
   "metadata": {},
   "outputs": [
    {
     "data": {
      "text/html": [
       "<div>\n",
       "<style scoped>\n",
       "    .dataframe tbody tr th:only-of-type {\n",
       "        vertical-align: middle;\n",
       "    }\n",
       "\n",
       "    .dataframe tbody tr th {\n",
       "        vertical-align: top;\n",
       "    }\n",
       "\n",
       "    .dataframe thead th {\n",
       "        text-align: right;\n",
       "    }\n",
       "</style>\n",
       "<table border=\"1\" class=\"dataframe\">\n",
       "  <thead>\n",
       "    <tr style=\"text-align: right;\">\n",
       "      <th></th>\n",
       "      <th>review_id</th>\n",
       "      <th>star_rating</th>\n",
       "      <th>helpful_votes</th>\n",
       "      <th>total_votes</th>\n",
       "      <th>vine</th>\n",
       "      <th>verified_purchase</th>\n",
       "    </tr>\n",
       "  </thead>\n",
       "  <tbody>\n",
       "    <tr>\n",
       "      <th>732298</th>\n",
       "      <td>R2YJXB3A0TVPT2</td>\n",
       "      <td>NaN</td>\n",
       "      <td>NaN</td>\n",
       "      <td>NaN</td>\n",
       "      <td>NaN</td>\n",
       "      <td>NaN</td>\n",
       "    </tr>\n",
       "    <tr>\n",
       "      <th>986770</th>\n",
       "      <td>R11F7GMH1OI5QE</td>\n",
       "      <td>NaN</td>\n",
       "      <td>NaN</td>\n",
       "      <td>NaN</td>\n",
       "      <td>NaN</td>\n",
       "      <td>NaN</td>\n",
       "    </tr>\n",
       "    <tr>\n",
       "      <th>1023677</th>\n",
       "      <td>R372PRQ7YBM7DY</td>\n",
       "      <td>NaN</td>\n",
       "      <td>NaN</td>\n",
       "      <td>NaN</td>\n",
       "      <td>NaN</td>\n",
       "      <td>NaN</td>\n",
       "    </tr>\n",
       "    <tr>\n",
       "      <th>1090132</th>\n",
       "      <td>R2EN9VGG0RM1I0</td>\n",
       "      <td>NaN</td>\n",
       "      <td>NaN</td>\n",
       "      <td>NaN</td>\n",
       "      <td>NaN</td>\n",
       "      <td>NaN</td>\n",
       "    </tr>\n",
       "    <tr>\n",
       "      <th>1156979</th>\n",
       "      <td>R3JI5NZB8F52QT</td>\n",
       "      <td>NaN</td>\n",
       "      <td>NaN</td>\n",
       "      <td>NaN</td>\n",
       "      <td>NaN</td>\n",
       "      <td>NaN</td>\n",
       "    </tr>\n",
       "  </tbody>\n",
       "</table>\n",
       "</div>"
      ],
      "text/plain": [
       "              review_id  star_rating  helpful_votes  total_votes vine  \\\n",
       "732298   R2YJXB3A0TVPT2          NaN            NaN          NaN  NaN   \n",
       "986770   R11F7GMH1OI5QE          NaN            NaN          NaN  NaN   \n",
       "1023677  R372PRQ7YBM7DY          NaN            NaN          NaN  NaN   \n",
       "1090132  R2EN9VGG0RM1I0          NaN            NaN          NaN  NaN   \n",
       "1156979  R3JI5NZB8F52QT          NaN            NaN          NaN  NaN   \n",
       "\n",
       "        verified_purchase  \n",
       "732298                NaN  \n",
       "986770                NaN  \n",
       "1023677               NaN  \n",
       "1090132               NaN  \n",
       "1156979               NaN  "
      ]
     },
     "execution_count": 24,
     "metadata": {},
     "output_type": "execute_result"
    }
   ],
   "source": [
    "# Show Null star_rating Rows for Inspection\n",
    "vine_table_df.loc[(vine_table_df[\"star_rating\"].isna())]"
   ]
  },
  {
   "cell_type": "code",
   "execution_count": null,
   "id": "45c2f228",
   "metadata": {},
   "outputs": [],
   "source": [
    "# Drop Null Rows"
   ]
  }
 ],
 "metadata": {
  "kernelspec": {
   "display_name": "PythonData",
   "language": "python",
   "name": "pythondata"
  },
  "language_info": {
   "codemirror_mode": {
    "name": "ipython",
    "version": 3
   },
   "file_extension": ".py",
   "mimetype": "text/x-python",
   "name": "python",
   "nbconvert_exporter": "python",
   "pygments_lexer": "ipython3",
   "version": "3.7.10"
  }
 },
 "nbformat": 4,
 "nbformat_minor": 5
}
